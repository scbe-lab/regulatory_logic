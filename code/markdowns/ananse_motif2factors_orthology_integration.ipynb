{
 "cells": [
  {
   "cell_type": "code",
   "execution_count": 1,
   "metadata": {},
   "outputs": [],
   "source": [
    "import os\n",
    "import shutil\n",
    "#import genomepy\n",
    "import pandas as pd\n",
    "import numpy as np\n",
    "import matplotlib.pyplot as plt"
   ]
  },
  {
   "cell_type": "code",
   "execution_count": 2,
   "metadata": {},
   "outputs": [],
   "source": [
    "\"\"\"Build gene regulatory network\"\"\"\n",
    "import math\n",
    "import os\n",
    "import re\n",
    "import shutil\n",
    "import sys\n",
    "import warnings\n",
    "from tempfile import NamedTemporaryFile, mkdtemp\n",
    "from typing import Union\n",
    "\n",
    "#import dask.dataframe as dd\n",
    "#import genomepy\n",
    "import numpy as np\n",
    "import pandas as pd\n",
    "#import pyranges as pr\n",
    "#from loguru import logger\n",
    "from scipy.stats import rankdata\n",
    "from sklearn.preprocessing import minmax_scale\n",
    "from tqdm.auto import tqdm\n",
    "\n",
    "#from ananse import PACKAGE_DIR, SEPARATOR\n",
    "#from ananse.utils import cleanpath\n",
    "#from ananse.view import get_binding_tfs\n",
    "\n",
    "warnings.filterwarnings(\"ignore\")"
   ]
  },
  {
   "cell_type": "markdown",
   "metadata": {},
   "source": [
    "## Try to handle RNA data properly"
   ]
  },
  {
   "cell_type": "code",
   "execution_count": null,
   "metadata": {},
   "outputs": [],
   "source": []
  },
  {
   "cell_type": "code",
   "execution_count": null,
   "metadata": {},
   "outputs": [],
   "source": []
  },
  {
   "cell_type": "markdown",
   "metadata": {},
   "source": [
    "## Parse M2F's original orthofinder"
   ]
  },
  {
   "cell_type": "code",
   "execution_count": null,
   "metadata": {},
   "outputs": [],
   "source": [
    "# run orthofinder\n",
    "# define the load_orthogroups_in_db function\n",
    "# run the load_orthogroups_in_db function to create the .sqlite database\n",
    "# run by hand the makemotif2factors; maybe this is the optimal place where to place the checkings in rosetta etc??\n",
    "# \n"
   ]
  },
  {
   "cell_type": "code",
   "execution_count": null,
   "metadata": {},
   "outputs": [],
   "source": [
    "# load orthofinder into data base\n",
    "orthogroup_db = f\"{tmpdir}/orthologs.sqlite\"\n",
    "load_orthogroups_in_db(orthogroup_db, all_genomes, orthofinder_result)"
   ]
  },
  {
   "cell_type": "code",
   "execution_count": null,
   "metadata": {},
   "outputs": [],
   "source": [
    "# with orthofinder loaded, load more evidences"
   ]
  },
  {
   "cell_type": "code",
   "execution_count": null,
   "metadata": {},
   "outputs": [],
   "source": [
    "# check if we can add here the motif database that we do on our own??"
   ]
  },
  {
   "cell_type": "code",
   "execution_count": null,
   "metadata": {},
   "outputs": [],
   "source": [
    "# I NEED TO BRING HERE THE motifsandfactors THINGY"
   ]
  },
  {
   "cell_type": "code",
   "execution_count": null,
   "metadata": {},
   "outputs": [],
   "source": [
    "# def make_motif2factors(\n",
    "#    prefix,\n",
    "#    new_reference,\n",
    "#    database_references,\n",
    "#    motifsandfactors,\n",
    "#    database,\n",
    "#    strategy,\n",
    "#    motifs,\n",
    "# ):\n",
    "#     \"\"\"\n",
    "#     Make a motifs2factors file based on an existing ortholog database.\n",
    "\n",
    "#     We loop over each motif, find which factors belong to it in the old\n",
    "#     reference, then find all the orthogroups those belong to, and finally assign\n",
    "#     all the genes of the new reference species that belong to those orthogroups.\n",
    "#     \"\"\"\n",
    "    factor2orthogroups.cache_clear()\n",
    "    conn = sqlite3.connect(database)\n",
    "    cur = conn.cursor()\n",
    "\n",
    "    with open(f\"{prefix}.motif2factors.txt\", \"w\") as f: # turn this into a dataframe that gets filled. We will write the final table later\n",
    "        f.write(\"Motif\\tFactor\\tEvidence\\tCurated\\n\")\n",
    "        for motif, factors in motifsandfactors.items():\n",
    "            # remember if we found any orthologs for all the factors belonging\n",
    "            # to our motif\n",
    "            motif_set = False\n",
    "\n",
    "            # get all the orthogroups belonging to all our factors belonging to\n",
    "            # our motif. This is not as trivial as it sounds, since gene naming\n",
    "            # is a mess\n",
    "            # <-- in relation to this last comment, we need to dig if Jakke gave these TFs a human name\n",
    "            orthologousgroups = {\n",
    "                item\n",
    "                for factor in factors\n",
    "                for item in factor2orthogroups(\n",
    "                    factor, tuple(database_references), database, strategy\n",
    "                )\n",
    "            }\n",
    "            if len(orthologousgroups) > 0:\n",
    "                for orthologousgroup in orthologousgroups:\n",
    "                    res = cur.execute(\n",
    "                        f\"SELECT * FROM genes WHERE orthogroup='{orthologousgroup}' AND assembly='{new_reference}'\"\n",
    "                    ).fetchall()\n",
    "\n",
    "                    if len(res):\n",
    "                        for _, gene_name, _, gene_id, *_ in res:\n",
    "                            motif_set = True\n",
    "                            if gene_name is not None:\n",
    "                                f.write(f\"{motif}\\t{gene_name}\\tOrthologs\\tN\\n\")\n",
    "                            else:\n",
    "                                f.write(f\"{motif}\\t{gene_id}\\tOrthologs\\tN\\n\")\n",
    "            if not motif_set:\n",
    "                f.write(f\"{motif}\\tNO ORTHOLOGS FOUND\\tOrthologs\\tN\\n\")\n",
    "\n",
    "    with open(f\"{prefix}.pfm\", \"w\") as f:\n",
    "        for motif in motifs:\n",
    "            print(motif.to_ppm(), file=f)\n"
   ]
  },
  {
   "cell_type": "code",
   "execution_count": null,
   "metadata": {},
   "outputs": [],
   "source": []
  },
  {
   "cell_type": "code",
   "execution_count": null,
   "metadata": {},
   "outputs": [],
   "source": []
  },
  {
   "cell_type": "code",
   "execution_count": null,
   "metadata": {},
   "outputs": [],
   "source": []
  },
  {
   "cell_type": "code",
   "execution_count": null,
   "metadata": {},
   "outputs": [],
   "source": []
  },
  {
   "cell_type": "code",
   "execution_count": null,
   "metadata": {},
   "outputs": [],
   "source": []
  },
  {
   "cell_type": "code",
   "execution_count": null,
   "metadata": {},
   "outputs": [],
   "source": [
    "# get all motifs and related factors from motif database\n",
    "    motifs = read_motifs(database)\n",
    "    motifsandfactors = {\n",
    "        motif.id: [val for sublist in motif.factors.values() for val in sublist]\n",
    "        for motif in motifs\n",
    "    }\n",
    "\n",
    "    # process the references\n",
    "    logger.info(\"Now writing your motif2factors files.\")\n",
    "    # make sure the output dir exists\n",
    "    pathlib.Path(f\"{outdir}\").mkdir(parents=True, exist_ok=True)\n",
    "    for reference in new_reference:\n",
    "        genome = genomepy.Genome(reference, genomes_dir, rebuild=False).name\n",
    "        make_motif2factors(\n",
    "            f\"{outdir}/{genome}.{database}\",\n",
    "            new_reference=genome,\n",
    "            database_references=database_references,\n",
    "            motifsandfactors=motifsandfactors,\n",
    "            database=orthogroup_db,\n",
    "            strategy=strategy,\n",
    "            motifs=motifs,\n",
    "        )"
   ]
  },
  {
   "cell_type": "markdown",
   "metadata": {},
   "source": [
    "## get the correct dataframes & columns"
   ]
  },
  {
   "cell_type": "code",
   "execution_count": 2,
   "metadata": {},
   "outputs": [
    {
     "data": {
      "text/plain": [
       "['AL391988.1', 'AC105411.1', 'AL590440.1']"
      ]
     },
     "execution_count": 2,
     "metadata": {},
     "output_type": "execute_result"
    }
   ],
   "source": [
    "hg38 = genomepy.Annotation(\"/bank/genomes/GRCh38.p13\")  # from Ensembl\n",
    "hg38_genes = hg38.genes(\"gtf\")\n",
    "hg38_genes[0:3]"
   ]
  },
  {
   "cell_type": "code",
   "execution_count": 3,
   "metadata": {},
   "outputs": [
    {
     "data": {
      "text/plain": [
       "['SMEST009541001', 'SmMSTRG.15908', 'SmMSTRG.4940']"
      ]
     },
     "execution_count": 3,
     "metadata": {},
     "output_type": "execute_result"
    }
   ],
   "source": [
    "a = genomepy.Annotation(\"raw/Smed.gtf\", quiet=True)\n",
    "\n",
    "t2g = a.gtf_dict(\"transcript_id\", \"gene_name\")\n",
    "\n",
    "a.genes(\"gtf\")[0:3]"
   ]
  },
  {
   "cell_type": "code",
   "execution_count": 4,
   "metadata": {},
   "outputs": [
    {
     "data": {
      "text/html": [
       "<div>\n",
       "<style scoped>\n",
       "    .dataframe tbody tr th:only-of-type {\n",
       "        vertical-align: middle;\n",
       "    }\n",
       "\n",
       "    .dataframe tbody tr th {\n",
       "        vertical-align: top;\n",
       "    }\n",
       "\n",
       "    .dataframe thead th {\n",
       "        text-align: right;\n",
       "    }\n",
       "</style>\n",
       "<table border=\"1\" class=\"dataframe\">\n",
       "  <thead>\n",
       "    <tr style=\"text-align: right;\">\n",
       "      <th></th>\n",
       "      <th>gene</th>\n",
       "      <th>gene_NewAnnot_Guo</th>\n",
       "      <th>orthogroup</th>\n",
       "      <th>OG support</th>\n",
       "      <th>human orthologs</th>\n",
       "      <th>Support in ancestral node from human orthologs</th>\n",
       "      <th>Annotation in Guo New Genome</th>\n",
       "      <th>e value</th>\n",
       "    </tr>\n",
       "  </thead>\n",
       "  <tbody>\n",
       "    <tr>\n",
       "      <th>0</th>\n",
       "      <td>Smed_SMEST022356001.1</td>\n",
       "      <td>SMEST022356001</td>\n",
       "      <td>AP-2.HG1.6:TFAP2A/TFAP2B/TFAP2C/TFAP2D/TFAP2E</td>\n",
       "      <td>75</td>\n",
       "      <td>TFAP2A/TFAP2B/TFAP2C/TFAP2D/TFAP2E</td>\n",
       "      <td>93.0/93.0/93.0/93.0/93.0</td>\n",
       "      <td>AFJ24713.1 ap2 [Schmidtea mediterranea]</td>\n",
       "      <td>2.160000e-310</td>\n",
       "    </tr>\n",
       "    <tr>\n",
       "      <th>1</th>\n",
       "      <td>Smed_SMEST047168002.1</td>\n",
       "      <td>SMEST047168002</td>\n",
       "      <td>ARID_BRIGHT.HG1.0:ARID4A/ARID4B</td>\n",
       "      <td>100</td>\n",
       "      <td>ARID4A/ARID4B</td>\n",
       "      <td>95.0/95.0</td>\n",
       "      <td>XP_018644114.1 hypothetical protein Smp_124780...</td>\n",
       "      <td>5.380000e-44</td>\n",
       "    </tr>\n",
       "  </tbody>\n",
       "</table>\n",
       "</div>"
      ],
      "text/plain": [
       "                    gene gene_NewAnnot_Guo  \\\n",
       "0  Smed_SMEST022356001.1    SMEST022356001   \n",
       "1  Smed_SMEST047168002.1    SMEST047168002   \n",
       "\n",
       "                                      orthogroup OG support  \\\n",
       "0  AP-2.HG1.6:TFAP2A/TFAP2B/TFAP2C/TFAP2D/TFAP2E         75   \n",
       "1                ARID_BRIGHT.HG1.0:ARID4A/ARID4B        100   \n",
       "\n",
       "                      human orthologs  \\\n",
       "0  TFAP2A/TFAP2B/TFAP2C/TFAP2D/TFAP2E   \n",
       "1                       ARID4A/ARID4B   \n",
       "\n",
       "  Support in ancestral node from human orthologs  \\\n",
       "0                       93.0/93.0/93.0/93.0/93.0   \n",
       "1                                      95.0/95.0   \n",
       "\n",
       "                        Annotation in Guo New Genome        e value  \n",
       "0            AFJ24713.1 ap2 [Schmidtea mediterranea]  2.160000e-310  \n",
       "1  XP_018644114.1 hypothetical protein Smp_124780...   5.380000e-44  "
      ]
     },
     "execution_count": 4,
     "metadata": {},
     "output_type": "execute_result"
    }
   ],
   "source": [
    "cur1 = pd.read_table(\"raw/planaria_tfs_Smed_curated_NewGenome.tsv\")\n",
    "cur1.head(2)"
   ]
  },
  {
   "cell_type": "code",
   "execution_count": 5,
   "metadata": {},
   "outputs": [
    {
     "name": "stdout",
     "output_type": "stream",
     "text": [
      "overlap: 99 %\n"
     ]
    }
   ],
   "source": [
    "# sanity check: using the correct column?\n",
    "cur_genes = set(cur1[\"gene_NewAnnot_Guo\"])\n",
    "# cur_genes = set(cur1[\"gene\"].str.replace(\"Smed_\", \"\").str.replace(\"\\.\\d*\", \"\", regex=True))\n",
    "ann_genes = set(a.genes(\"gtf\"))\n",
    "\n",
    "print(\"overlap:\", int(100* len(cur_genes & ann_genes) / min(len(cur_genes), len(ann_genes))), \"%\")"
   ]
  },
  {
   "cell_type": "code",
   "execution_count": 6,
   "metadata": {},
   "outputs": [
    {
     "data": {
      "text/html": [
       "<div>\n",
       "<style scoped>\n",
       "    .dataframe tbody tr th:only-of-type {\n",
       "        vertical-align: middle;\n",
       "    }\n",
       "\n",
       "    .dataframe tbody tr th {\n",
       "        vertical-align: top;\n",
       "    }\n",
       "\n",
       "    .dataframe thead th {\n",
       "        text-align: right;\n",
       "    }\n",
       "</style>\n",
       "<table border=\"1\" class=\"dataframe\">\n",
       "  <thead>\n",
       "    <tr style=\"text-align: right;\">\n",
       "      <th></th>\n",
       "      <th>Rink</th>\n",
       "      <th>Neiro</th>\n",
       "      <th>NewGuoGenome</th>\n",
       "      <th>Symbol</th>\n",
       "      <th>Old symbol</th>\n",
       "      <th>Description</th>\n",
       "      <th>TF group</th>\n",
       "      <th>TF class</th>\n",
       "      <th>Identification</th>\n",
       "      <th>RNAi</th>\n",
       "      <th>In situ</th>\n",
       "      <th>Reference</th>\n",
       "      <th>X1</th>\n",
       "      <th>X2</th>\n",
       "      <th>Xins</th>\n",
       "      <th>X1 percent</th>\n",
       "      <th>X2 percent</th>\n",
       "      <th>Xins percent</th>\n",
       "      <th>Jaspar MatrixID</th>\n",
       "      <th>Jaspar Evalue</th>\n",
       "    </tr>\n",
       "  </thead>\n",
       "  <tbody>\n",
       "    <tr>\n",
       "      <th>0</th>\n",
       "      <td>SMESG000003328.1</td>\n",
       "      <td>MSTRG.707</td>\n",
       "      <td>SmMSTRG.707</td>\n",
       "      <td>fos-1</td>\n",
       "      <td>NaN</td>\n",
       "      <td>Fos proto-oncogene</td>\n",
       "      <td>FOS</td>\n",
       "      <td>Basic domain</td>\n",
       "      <td>1.0</td>\n",
       "      <td>Cyclopic blastemas and asymmetric tails</td>\n",
       "      <td>Ubiquitous</td>\n",
       "      <td>(Wenemoser et al., 2012; Zhu et al., 2015)</td>\n",
       "      <td>73.531050</td>\n",
       "      <td>56.195082</td>\n",
       "      <td>82.571524</td>\n",
       "      <td>0.346358</td>\n",
       "      <td>0.264699</td>\n",
       "      <td>0.388942</td>\n",
       "      <td>0</td>\n",
       "      <td>0.0</td>\n",
       "    </tr>\n",
       "    <tr>\n",
       "      <th>1</th>\n",
       "      <td>SMESG000062649.1</td>\n",
       "      <td>MSTRG.18685</td>\n",
       "      <td>SmMSTRG.18685</td>\n",
       "      <td>batf-3</td>\n",
       "      <td>NaN</td>\n",
       "      <td>Basic leucine zipper transcription factor ATF-...</td>\n",
       "      <td>BATF</td>\n",
       "      <td>Basic domain</td>\n",
       "      <td>0.0</td>\n",
       "      <td>0</td>\n",
       "      <td>0</td>\n",
       "      <td>NaN</td>\n",
       "      <td>67.449376</td>\n",
       "      <td>56.338831</td>\n",
       "      <td>120.661601</td>\n",
       "      <td>0.275923</td>\n",
       "      <td>0.230472</td>\n",
       "      <td>0.493605</td>\n",
       "      <td>0</td>\n",
       "      <td>0.0</td>\n",
       "    </tr>\n",
       "  </tbody>\n",
       "</table>\n",
       "</div>"
      ],
      "text/plain": [
       "               Rink        Neiro   NewGuoGenome  Symbol Old symbol  \\\n",
       "0  SMESG000003328.1    MSTRG.707    SmMSTRG.707   fos-1        NaN   \n",
       "1  SMESG000062649.1  MSTRG.18685  SmMSTRG.18685  batf-3        NaN   \n",
       "\n",
       "                                         Description TF group      TF class  \\\n",
       "0                                 Fos proto-oncogene      FOS  Basic domain   \n",
       "1  Basic leucine zipper transcription factor ATF-...     BATF  Basic domain   \n",
       "\n",
       "   Identification                                     RNAi     In situ  \\\n",
       "0             1.0  Cyclopic blastemas and asymmetric tails  Ubiquitous   \n",
       "1             0.0                                        0           0   \n",
       "\n",
       "                                    Reference         X1         X2  \\\n",
       "0  (Wenemoser et al., 2012; Zhu et al., 2015)  73.531050  56.195082   \n",
       "1                                         NaN  67.449376  56.338831   \n",
       "\n",
       "         Xins  X1 percent  X2 percent  Xins percent Jaspar MatrixID  \\\n",
       "0   82.571524    0.346358    0.264699      0.388942               0   \n",
       "1  120.661601    0.275923    0.230472      0.493605               0   \n",
       "\n",
       "   Jaspar Evalue  \n",
       "0            0.0  \n",
       "1            0.0  "
      ]
     },
     "execution_count": 6,
     "metadata": {},
     "output_type": "execute_result"
    }
   ],
   "source": [
    "cur2 = pd.read_table(\"raw/media-1_extraGuo.tsv\")\n",
    "cur2.head(2)"
   ]
  },
  {
   "cell_type": "code",
   "execution_count": 7,
   "metadata": {},
   "outputs": [
    {
     "name": "stdout",
     "output_type": "stream",
     "text": [
      "overlap: 99 %\n"
     ]
    }
   ],
   "source": [
    "# sanity check: using the correct column?\n",
    "cur_genes = set(cur2[\"NewGuoGenome\"])\n",
    "# cur_genes = set(cur2[\"Rink\"].str.replace(\"\\.\\d*\", \"\", regex=True))\n",
    "ann_genes = set(a.genes(\"gtf\"))\n",
    "\n",
    "print(\"overlap:\", int(100* len(cur_genes & ann_genes) / min(len(cur_genes), len(ann_genes))), \"%\")"
   ]
  },
  {
   "cell_type": "code",
   "execution_count": 8,
   "metadata": {},
   "outputs": [
    {
     "name": "stdout",
     "output_type": "stream",
     "text": [
      "10077 unique Smed genes in orthofinder output\n",
      "10585 unique human genes in orthofinder output\n",
      "overlap: 100 %\n"
     ]
    },
    {
     "data": {
      "text/html": [
       "<div>\n",
       "<style scoped>\n",
       "    .dataframe tbody tr th:only-of-type {\n",
       "        vertical-align: middle;\n",
       "    }\n",
       "\n",
       "    .dataframe tbody tr th {\n",
       "        vertical-align: top;\n",
       "    }\n",
       "\n",
       "    .dataframe thead th {\n",
       "        text-align: right;\n",
       "    }\n",
       "</style>\n",
       "<table border=\"1\" class=\"dataframe\">\n",
       "  <thead>\n",
       "    <tr style=\"text-align: right;\">\n",
       "      <th></th>\n",
       "      <th>GRCh38.p13</th>\n",
       "      <th>Smed</th>\n",
       "    </tr>\n",
       "  </thead>\n",
       "  <tbody>\n",
       "    <tr>\n",
       "      <th>0</th>\n",
       "      <td>[AL583836.1, CYP17A1, CYP1A1, CYP1A2, CYP1B1, ...</td>\n",
       "      <td>[SMEST012534002, SMEST013700001, SMEST01370100...</td>\n",
       "    </tr>\n",
       "    <tr>\n",
       "      <th>1</th>\n",
       "      <td>[AC011473.4, AC109583.1, ACR, CELA1, CELA2A, C...</td>\n",
       "      <td>[SMEST002831001, SMEST025034001, SMEST04090700...</td>\n",
       "    </tr>\n",
       "    <tr>\n",
       "      <th>2</th>\n",
       "      <td>[AC004080.3, AC012531.3, BSX, EMX1, EMX2, GSX1...</td>\n",
       "      <td>[SmMSTRG.764, SMEST017219001, SMEST019482001, ...</td>\n",
       "    </tr>\n",
       "  </tbody>\n",
       "</table>\n",
       "</div>"
      ],
      "text/plain": [
       "                                          GRCh38.p13  \\\n",
       "0  [AL583836.1, CYP17A1, CYP1A1, CYP1A2, CYP1B1, ...   \n",
       "1  [AC011473.4, AC109583.1, ACR, CELA1, CELA2A, C...   \n",
       "2  [AC004080.3, AC012531.3, BSX, EMX1, EMX2, GSX1...   \n",
       "\n",
       "                                                Smed  \n",
       "0  [SMEST012534002, SMEST013700001, SMEST01370100...  \n",
       "1  [SMEST002831001, SMEST025034001, SMEST04090700...  \n",
       "2  [SmMSTRG.764, SMEST017219001, SMEST019482001, ...  "
      ]
     },
     "execution_count": 8,
     "metadata": {},
     "output_type": "execute_result"
    }
   ],
   "source": [
    "orthofinder = pd.read_table(\n",
    "    \"raw/Orthogroups.tsv\",  # from the orthofinder output, see assembly_analyses.ipynb\n",
    "    usecols=[\"Smed.pep\", \"GRCh38.p13.pep\"]\n",
    ").dropna()\n",
    "orthofinder.columns = [ \"GRCh38.p13\", \"Smed\"]\n",
    "\n",
    "for col in orthofinder.columns:\n",
    "    orthofinder[col] = orthofinder[col].str.split(\"\\||, \", regex=True).apply(lambda x: [g for g in x if g != \".\"])\n",
    "\n",
    "orthofinder[\"GRCh38.p13\"] = orthofinder[\"GRCh38.p13\"].apply(lambda x: [g for g in x if g in hg38_genes])  # keep only gene names\n",
    "orthofinder[\"Smed\"] = orthofinder[\"Smed\"].apply(lambda x: [t2g[t] for t in x if t in t2g])  # transcripts to gene names\n",
    "\n",
    "ofs_genes = set([item for sublist in orthofinder[\"Smed\"].to_list() for item in sublist])\n",
    "print(f\"{len(ofs_genes)} unique Smed genes in orthofinder output\")\n",
    "ofh_genes = set([item for sublist in orthofinder[\"GRCh38.p13\"].to_list() for item in sublist])\n",
    "print(f\"{len(ofh_genes)} unique human genes in orthofinder output\")\n",
    "print(\"overlap:\", int(100* len(ofs_genes & ann_genes) / min(len(ofs_genes), len(ann_genes))), \"%\")\n",
    "\n",
    "orthofinder.head(3)"
   ]
  },
  {
   "cell_type": "markdown",
   "metadata": {},
   "source": [
    "## get the orthologs from the curated table"
   ]
  },
  {
   "cell_type": "code",
   "execution_count": 9,
   "metadata": {},
   "outputs": [
    {
     "name": "stdout",
     "output_type": "stream",
     "text": [
      "29082 genes in GTF\n"
     ]
    },
    {
     "data": {
      "text/html": [
       "<div>\n",
       "<style scoped>\n",
       "    .dataframe tbody tr th:only-of-type {\n",
       "        vertical-align: middle;\n",
       "    }\n",
       "\n",
       "    .dataframe tbody tr th {\n",
       "        vertical-align: top;\n",
       "    }\n",
       "\n",
       "    .dataframe thead th {\n",
       "        text-align: right;\n",
       "    }\n",
       "</style>\n",
       "<table border=\"1\" class=\"dataframe\">\n",
       "  <thead>\n",
       "    <tr style=\"text-align: right;\">\n",
       "      <th></th>\n",
       "      <th>orthologs</th>\n",
       "      <th>source</th>\n",
       "    </tr>\n",
       "    <tr>\n",
       "      <th>gene_name</th>\n",
       "      <th></th>\n",
       "      <th></th>\n",
       "    </tr>\n",
       "  </thead>\n",
       "  <tbody>\n",
       "    <tr>\n",
       "      <th>MT-1</th>\n",
       "      <td>&lt;NA&gt;</td>\n",
       "      <td>&lt;NA&gt;</td>\n",
       "    </tr>\n",
       "    <tr>\n",
       "      <th>SMEST000017001</th>\n",
       "      <td>&lt;NA&gt;</td>\n",
       "      <td>&lt;NA&gt;</td>\n",
       "    </tr>\n",
       "    <tr>\n",
       "      <th>SMEST000022001</th>\n",
       "      <td>&lt;NA&gt;</td>\n",
       "      <td>&lt;NA&gt;</td>\n",
       "    </tr>\n",
       "  </tbody>\n",
       "</table>\n",
       "</div>"
      ],
      "text/plain": [
       "               orthologs source\n",
       "gene_name                      \n",
       "MT-1                <NA>   <NA>\n",
       "SMEST000017001      <NA>   <NA>\n",
       "SMEST000022001      <NA>   <NA>"
      ]
     },
     "execution_count": 9,
     "metadata": {},
     "output_type": "execute_result"
    }
   ],
   "source": [
    "orthologs = pd.DataFrame({\"gene_name\": a.genes(\"gtf\"), \"orthologs\": pd.NA, \"source\": pd.NA})\n",
    "orthologs.set_index(\"gene_name\", inplace=True)\n",
    "orthologs.sort_index(inplace=True)\n",
    "\n",
    "print(len(orthologs), \"genes in GTF\")\n",
    "orthologs.head(3)"
   ]
  },
  {
   "cell_type": "code",
   "execution_count": 10,
   "metadata": {},
   "outputs": [
    {
     "name": "stdout",
     "output_type": "stream",
     "text": [
      "table now contains 255 orthologs\n"
     ]
    }
   ],
   "source": [
    "# add manually curated orthologs\n",
    "\n",
    "df = cur1[[\"gene_NewAnnot_Guo\", \"human orthologs\"]].dropna().drop_duplicates()\n",
    "df.columns = [\"gene_name\", \"orthologs\"]\n",
    "df.set_index(\"gene_name\", inplace=True)\n",
    "df[\"source\"] = \"curated_human_orthologs\"\n",
    "\n",
    "# split orthologs\n",
    "df[\"orthologs\"] = df[\"orthologs\"].str.split(\"/\")\n",
    "# # filter for presence in human gene list\n",
    "# df[\"orthologs\"] = df[\"orthologs\"].apply(lambda orthologs: [g.upper() for g in orthologs if g.upper() in hg38_genes])\n",
    "# # drop orthologs without any matching human factors\n",
    "# df = df[df[\"orthologs\"].map(lambda d: len(d)) > 0]\n",
    "\n",
    "# missing = set(df[~df.index.isin(orthologs.index)].index)\n",
    "# # remove missing\n",
    "# df = df.loc[~df.index.isin(missing)]\n",
    "# print(f\"missing from gtf ({len(missing)}): {missing}\")\n",
    "# print()\n",
    "\n",
    "# # which orthologs are missing from the orthologs df?\n",
    "# len_df = len(df)\n",
    "# df = df[orthologs.loc[df.index][\"orthologs\"].isna()]\n",
    "# print(f\"{len(df)} new orthologs added to the table. {len_df-len(df)} orthologs were already present\")\n",
    "\n",
    "# add these to the orthologs df\n",
    "orthologs.loc[df.index] = df\n",
    "print(f\"table now contains {len(orthologs.dropna())} orthologs\")"
   ]
  },
  {
   "cell_type": "code",
   "execution_count": 11,
   "metadata": {},
   "outputs": [
    {
     "name": "stdout",
     "output_type": "stream",
     "text": [
      "missing from gtf (0): set()\n",
      "\n",
      "269 new orthologs added to the table. 255 orthologs were already present\n",
      "table now contains 524 orthologs\n"
     ]
    }
   ],
   "source": [
    "# add matching orthogroups\n",
    "\n",
    "df = cur1[[\"gene_NewAnnot_Guo\", \"orthogroup\"]].dropna().drop_duplicates()\n",
    "df.columns = [\"gene_name\", \"orthologs\"]\n",
    "df.set_index(\"gene_name\", inplace=True)\n",
    "df[\"source\"] = \"curated_orthogroups\"\n",
    "\n",
    "# split orthologs and filter for presence in human gene list\n",
    "df[\"orthologs\"] = df[\"orthologs\"].str.split(\":|;|/\", regex=True)\n",
    "df[\"orthologs\"] = df[\"orthologs\"].apply(lambda orthologs: [g.upper() for g in orthologs if g.upper() in hg38_genes])\n",
    "# drop orthologs without any matching human factors\n",
    "df = df[df[\"orthologs\"].map(lambda d: len(d)) > 0]\n",
    "\n",
    "missing = set(df[~df.index.isin(orthologs.index)].index)\n",
    "# remove missing\n",
    "df = df.loc[~df.index.isin(missing)]\n",
    "print(f\"missing from gtf ({len(missing)}): {missing}\")\n",
    "print()\n",
    "\n",
    "# which orthologs are missing from the orthologs df?\n",
    "len_df = len(df)\n",
    "df = df[orthologs.loc[df.index][\"orthologs\"].isna()]\n",
    "print(f\"{len(df)} new orthologs added to the table. {len_df-len(df)} orthologs were already present\")\n",
    "\n",
    "# add these to the orthologs df\n",
    "orthologs.loc[df.index] = df\n",
    "print(f\"table now contains {len(orthologs.dropna())} orthologs\")"
   ]
  },
  {
   "cell_type": "markdown",
   "metadata": {},
   "source": [
    "# get the orthologs from Neiro et al."
   ]
  },
  {
   "cell_type": "code",
   "execution_count": 12,
   "metadata": {},
   "outputs": [
    {
     "name": "stdout",
     "output_type": "stream",
     "text": [
      "missing from gtf (0): set()\n",
      "\n",
      "102 new orthologs added to the table. 156 orthologs were already present\n",
      "table now contains 626 orthologs\n"
     ]
    }
   ],
   "source": [
    "# add symbol\n",
    "\n",
    "df = cur2[[\"NewGuoGenome\", \"Symbol\"]].dropna().drop_duplicates()\n",
    "df.columns = [\"gene_name\", \"orthologs\"]\n",
    "df.set_index(\"gene_name\", inplace=True)\n",
    "df[\"source\"] = \"neiro_symbol\"\n",
    "\n",
    "df[\"orthologs\"] = df[\"orthologs\"].str.upper().apply(lambda s : s if s in hg38_genes else (s.split(\"-\")[0] if s.split(\"-\")[0] in hg38_genes else pd.NA))\n",
    "df = df[[\"orthologs\", \"source\"]].dropna()\n",
    "\n",
    "# split orthologs and filter for presence in human gene list\n",
    "df[\"orthologs\"] = df[\"orthologs\"].str.split(\"/\").apply(lambda orthologs: [g.upper() for g in orthologs if g.upper() in hg38_genes])\n",
    "# drop orthologs without any matching human factors\n",
    "df = df[df[\"orthologs\"].map(lambda d: len(d)) > 0]\n",
    "\n",
    "missing = set(df[~df.index.isin(orthologs.index)].index)\n",
    "# remove missing\n",
    "df = df.loc[~df.index.isin(missing)]\n",
    "print(f\"missing from gtf ({len(missing)}): {missing}\")\n",
    "print()\n",
    "\n",
    "# which orthologs are missing from the orthologs df?\n",
    "len_df = len(df)\n",
    "df = df[orthologs.loc[df.index][\"orthologs\"].isna()]\n",
    "print(f\"{len(df)} new orthologs added to the table. {len_df-len(df)} orthologs were already present\")\n",
    "\n",
    "# add these to the orthologs df\n",
    "orthologs.loc[df.index] = df\n",
    "print(f\"table now contains {len(orthologs.dropna())} orthologs\")"
   ]
  },
  {
   "cell_type": "code",
   "execution_count": 13,
   "metadata": {},
   "outputs": [
    {
     "name": "stdout",
     "output_type": "stream",
     "text": [
      "missing from gtf (0): set()\n",
      "\n",
      "2 new orthologs added to the table. 25 orthologs were already present\n",
      "table now contains 628 orthologs\n"
     ]
    }
   ],
   "source": [
    "# add old symbol\n",
    "\n",
    "df = cur2[[\"NewGuoGenome\", \"Old symbol\"]].dropna().drop_duplicates()\n",
    "df.columns = [\"gene_name\", \"orthologs\"]\n",
    "df.set_index(\"gene_name\", inplace=True)\n",
    "df[\"source\"] = \"neiro_old_symbol\"\n",
    "df[\"orthologs\"] = df[\"orthologs\"].str.upper()\n",
    "\n",
    "# split orthologs and filter for presence in human gene list\n",
    "df[\"orthologs\"] = df[\"orthologs\"].str.split(\"/\", regex=True).apply(lambda orthologs: [g.upper() for g in orthologs if g.upper() in hg38_genes])\n",
    "# drop orthologs without any matching human factors\n",
    "df = df[df[\"orthologs\"].map(lambda d: len(d)) > 0]\n",
    "\n",
    "missing = set(df[~df.index.isin(orthologs.index)].index)\n",
    "# remove missing\n",
    "df = df.loc[~df.index.isin(missing)]\n",
    "print(f\"missing from gtf ({len(missing)}): {missing}\")\n",
    "print()\n",
    "\n",
    "# which orthologs are missing from the orthologs df?\n",
    "len_df = len(df)\n",
    "df = df[orthologs.loc[df.index][\"orthologs\"].isna()]\n",
    "print(f\"{len(df)} new orthologs added to the table. {len_df-len(df)} orthologs were already present\")\n",
    "\n",
    "# add these to the orthologs df\n",
    "orthologs.loc[df.index] = df\n",
    "print(f\"table now contains {len(orthologs.dropna())} orthologs\")"
   ]
  },
  {
   "cell_type": "markdown",
   "metadata": {},
   "source": [
    "# Optional: add orthofinder orthologs"
   ]
  },
  {
   "cell_type": "code",
   "execution_count": 14,
   "metadata": {},
   "outputs": [
    {
     "name": "stdout",
     "output_type": "stream",
     "text": [
      "['MT-1', 'SMEST000017001', 'SMEST000022001', 'SMEST000026001', 'SMEST000031001']\n"
     ]
    }
   ],
   "source": [
    "missing_genes = orthologs.loc[orthologs.isna().any(1)].index.to_list()\n",
    "print(missing_genes[:5])\n",
    "\n",
    "df = orthofinder.copy()\n",
    "df[\"smed_string\"] = df[\"Smed\"].apply(lambda gene_list: \"/\".join(gene_list))\n",
    "\n",
    "max_o = 0\n",
    "max_g = None\n",
    "dist = []\n",
    "to_add = []\n",
    "for missing_gene in missing_genes:\n",
    "    hits = df[df[\"smed_string\"].str.contains(missing_gene)][\"GRCh38.p13\"]\n",
    "    if len(hits) != 0:\n",
    "        ortholog_genes = list(set([item for sublist in hits.to_list() for item in sublist]))\n",
    "        l = len(ortholog_genes)\n",
    "        if l > 1:\n",
    "            dist.append(l)\n",
    "        if l > max_o:\n",
    "            max_o = l\n",
    "            max_g = missing_gene\n",
    "        to_add.append(\n",
    "            [missing_gene, ortholog_genes, \"orthofinder\"]\n",
    "        )\n"
   ]
  },
  {
   "cell_type": "code",
   "execution_count": 15,
   "metadata": {},
   "outputs": [],
   "source": [
    "# x_min = 20\n",
    "# _ = plt.hist([n for n in dist if n >= x_min], bins=500)#, range=(6, xmax))# min(50, xmax))#, range=(6, xmax))\n",
    "# print(\"distribution of human orthologs per Smed gene (outliers not shown)\")\n",
    "# print(f\"y: Smed genes ({len(dist)} total), x: human orthologs (max {max(dist)})\")"
   ]
  },
  {
   "cell_type": "code",
   "execution_count": 16,
   "metadata": {},
   "outputs": [
    {
     "name": "stdout",
     "output_type": "stream",
     "text": [
      "10453 total Smed genes matched to orthologs (from the missing genes list)\n",
      "\n",
      "4450 Smed genes with 1 orthologs (42%)\n",
      "2093 Smed genes with 2 orthologs (20%)\n",
      "1127 Smed genes with 3 orthologs (10%)\n",
      "634 Smed genes with 4 orthologs (6%)\n",
      "387 Smed genes with 5 orthologs (3%)\n",
      "251 Smed genes with 6 orthologs (2%)\n",
      "257 Smed genes with 7 orthologs (2%)\n",
      "152 Smed genes with 8 orthologs (1%)\n",
      "125 Smed genes with 9 orthologs (1%)\n",
      "977 Smed genes with >9 orthologs (9%)\n"
     ]
    }
   ],
   "source": [
    "print(f\"{len(to_add)} Smed genes (from the missing genes list) matched to orthologs\")\n",
    "print()\n",
    "\n",
    "for n in range(1, 10):\n",
    "    l = len([l for l in to_add if len(l[1]) == n])\n",
    "    print(f\"{l} Smed genes with {n} orthologs ({int(100*l/len(to_add))}%)\")\n",
    "\n",
    "# rest\n",
    "l = len([l for l in to_add if len(l[1])> n])\n",
    "print(f\"{l} Smed genes with >{n} orthologs ({int(100*l/len(to_add))}%)\")"
   ]
  },
  {
   "cell_type": "code",
   "execution_count": 17,
   "metadata": {},
   "outputs": [
    {
     "name": "stdout",
     "output_type": "stream",
     "text": [
      "10453 total genes (any number of matched human orthologs)\n",
      "8304 genes (max 4 matched human orthologs)\n"
     ]
    },
    {
     "data": {
      "text/plain": [
       "[['SMEST000041001', ['GFM2'], 'orthofinder'],\n",
       " ['SMEST000042001', ['AC093525.1', 'AMDHD2'], 'orthofinder'],\n",
       " ['SMEST000046001', ['GFM2'], 'orthofinder']]"
      ]
     },
     "execution_count": 17,
     "metadata": {},
     "output_type": "execute_result"
    }
   ],
   "source": [
    "# some Smed genes have way too many potential orthologs to be useful\n",
    "\n",
    "print(f\"{len(to_add)} total genes (any number of matched human orthologs)\")\n",
    "max_orthologs = 4\n",
    "print(f\"{len([l for l in to_add if len(l[1]) <= max_orthologs])} genes (max {max_orthologs} matched human orthologs)\")\n",
    "\n",
    "# example\n",
    "[l for l in to_add[0:3] if len(l[1]) <= max_orthologs]"
   ]
  },
  {
   "cell_type": "code",
   "execution_count": 18,
   "metadata": {},
   "outputs": [
    {
     "data": {
      "text/html": [
       "<div>\n",
       "<style scoped>\n",
       "    .dataframe tbody tr th:only-of-type {\n",
       "        vertical-align: middle;\n",
       "    }\n",
       "\n",
       "    .dataframe tbody tr th {\n",
       "        vertical-align: top;\n",
       "    }\n",
       "\n",
       "    .dataframe thead th {\n",
       "        text-align: right;\n",
       "    }\n",
       "</style>\n",
       "<table border=\"1\" class=\"dataframe\">\n",
       "  <thead>\n",
       "    <tr style=\"text-align: right;\">\n",
       "      <th></th>\n",
       "      <th>orthologs</th>\n",
       "      <th>source</th>\n",
       "    </tr>\n",
       "    <tr>\n",
       "      <th>gene_name</th>\n",
       "      <th></th>\n",
       "      <th></th>\n",
       "    </tr>\n",
       "  </thead>\n",
       "  <tbody>\n",
       "    <tr>\n",
       "      <th>SMEST000041001</th>\n",
       "      <td>[GFM2]</td>\n",
       "      <td>orthofinder</td>\n",
       "    </tr>\n",
       "    <tr>\n",
       "      <th>SMEST000042001</th>\n",
       "      <td>[AC093525.1, AMDHD2]</td>\n",
       "      <td>orthofinder</td>\n",
       "    </tr>\n",
       "    <tr>\n",
       "      <th>SMEST000046001</th>\n",
       "      <td>[GFM2]</td>\n",
       "      <td>orthofinder</td>\n",
       "    </tr>\n",
       "  </tbody>\n",
       "</table>\n",
       "</div>"
      ],
      "text/plain": [
       "                           orthologs       source\n",
       "gene_name                                        \n",
       "SMEST000041001                [GFM2]  orthofinder\n",
       "SMEST000042001  [AC093525.1, AMDHD2]  orthofinder\n",
       "SMEST000046001                [GFM2]  orthofinder"
      ]
     },
     "execution_count": 18,
     "metadata": {},
     "output_type": "execute_result"
    }
   ],
   "source": [
    "df = pd.DataFrame([l for l in to_add if len(l[1]) <= max_orthologs], columns=[\"gene_name\", \"orthologs\", \"source\"]).set_index(\"gene_name\")\n",
    "df.head(3)"
   ]
  },
  {
   "cell_type": "code",
   "execution_count": 19,
   "metadata": {},
   "outputs": [
    {
     "name": "stdout",
     "output_type": "stream",
     "text": [
      "8304 new orthologs added to the table.\n",
      "table now contains 8932 orthologs\n"
     ]
    }
   ],
   "source": [
    "assert len(set(df.index) & set(missing_genes)) / len(set(df.index)) == 1\n",
    "assert len(set(df.index) & set(orthologs.dropna().index)) == 0\n",
    "\n",
    "# add these to the orthologs df\n",
    "orthologs.loc[df.index] = df\n",
    "print(f\"{len(df)} new orthologs added to the table.\")\n",
    "print(f\"table now contains {len(orthologs.dropna())} orthologs\")"
   ]
  },
  {
   "cell_type": "markdown",
   "metadata": {},
   "source": [
    "# save"
   ]
  },
  {
   "cell_type": "code",
   "execution_count": 20,
   "metadata": {},
   "outputs": [
    {
     "name": "stdout",
     "output_type": "stream",
     "text": [
      "8325 total human TFs in orthologs\n",
      "\n",
      "8932 Smed genes with orthologs\n",
      "20150 Smed genes without orthologs\n"
     ]
    }
   ],
   "source": [
    "print(f\"{len(set([item for sublist in orthologs.orthologs.dropna().to_list() for item in sublist]))} total human TFs in orthologs\")\n",
    "print()\n",
    "\n",
    "missing = orthologs[orthologs.isna().any(1)].index.unique().to_list()\n",
    "print(f\"{len(orthologs.dropna())} Smed genes with orthologs\")\n",
    "print(f\"{len(missing)} Smed genes without orthologs\")"
   ]
  },
  {
   "cell_type": "code",
   "execution_count": 21,
   "metadata": {},
   "outputs": [
    {
     "data": {
      "text/html": [
       "<div>\n",
       "<style scoped>\n",
       "    .dataframe tbody tr th:only-of-type {\n",
       "        vertical-align: middle;\n",
       "    }\n",
       "\n",
       "    .dataframe tbody tr th {\n",
       "        vertical-align: top;\n",
       "    }\n",
       "\n",
       "    .dataframe thead th {\n",
       "        text-align: right;\n",
       "    }\n",
       "</style>\n",
       "<table border=\"1\" class=\"dataframe\">\n",
       "  <thead>\n",
       "    <tr style=\"text-align: right;\">\n",
       "      <th></th>\n",
       "      <th>orthologs</th>\n",
       "      <th>source</th>\n",
       "    </tr>\n",
       "    <tr>\n",
       "      <th>gene_name</th>\n",
       "      <th></th>\n",
       "      <th></th>\n",
       "    </tr>\n",
       "  </thead>\n",
       "  <tbody>\n",
       "    <tr>\n",
       "      <th>SMEST000041001</th>\n",
       "      <td>GFM2</td>\n",
       "      <td>orthofinder</td>\n",
       "    </tr>\n",
       "    <tr>\n",
       "      <th>SMEST000042001</th>\n",
       "      <td>AC093525.1/AMDHD2</td>\n",
       "      <td>orthofinder</td>\n",
       "    </tr>\n",
       "    <tr>\n",
       "      <th>SMEST000046001</th>\n",
       "      <td>GFM2</td>\n",
       "      <td>orthofinder</td>\n",
       "    </tr>\n",
       "    <tr>\n",
       "      <th>SMEST000047001</th>\n",
       "      <td>GFM2</td>\n",
       "      <td>orthofinder</td>\n",
       "    </tr>\n",
       "    <tr>\n",
       "      <th>SMEST000092001</th>\n",
       "      <td>CHD6/CHD8/CHD9/CHD7</td>\n",
       "      <td>orthofinder</td>\n",
       "    </tr>\n",
       "  </tbody>\n",
       "</table>\n",
       "</div>"
      ],
      "text/plain": [
       "                          orthologs       source\n",
       "gene_name                                       \n",
       "SMEST000041001                 GFM2  orthofinder\n",
       "SMEST000042001    AC093525.1/AMDHD2  orthofinder\n",
       "SMEST000046001                 GFM2  orthofinder\n",
       "SMEST000047001                 GFM2  orthofinder\n",
       "SMEST000092001  CHD6/CHD8/CHD9/CHD7  orthofinder"
      ]
     },
     "execution_count": 21,
     "metadata": {},
     "output_type": "execute_result"
    }
   ],
   "source": [
    "orthologs = orthologs.dropna()\n",
    "orthologs[\"orthologs\"] = orthologs[\"orthologs\"].apply(lambda x: \"/\".join(x))\n",
    "\n",
    "orthologs.head(5)"
   ]
  },
  {
   "cell_type": "code",
   "execution_count": 23,
   "metadata": {},
   "outputs": [
    {
     "data": {
      "text/plain": [
       "source\n",
       "curated_human_orthologs     255\n",
       "curated_orthogroups         269\n",
       "neiro_old_symbol              2\n",
       "neiro_symbol                102\n",
       "orthofinder                8304\n",
       "dtype: int64"
      ]
     },
     "execution_count": 23,
     "metadata": {},
     "output_type": "execute_result"
    }
   ],
   "source": [
    "# sanity check (that no overwrites happened): orthologs per source\n",
    "orthologs.groupby(\"source\").size()"
   ]
  },
  {
   "cell_type": "code",
   "execution_count": 22,
   "metadata": {},
   "outputs": [],
   "source": [
    "orthologs.to_csv(\"orthologs_with_orthofinder.tsv\", sep=\"\\t\")"
   ]
  }
 ],
 "metadata": {
  "kernelspec": {
   "display_name": "Python 3 (ipykernel)",
   "language": "python",
   "name": "python3"
  },
  "language_info": {
   "codemirror_mode": {
    "name": "ipython",
    "version": 3
   },
   "file_extension": ".py",
   "mimetype": "text/x-python",
   "name": "python",
   "nbconvert_exporter": "python",
   "pygments_lexer": "ipython3",
   "version": "3.8.10"
  }
 },
 "nbformat": 4,
 "nbformat_minor": 4
}
