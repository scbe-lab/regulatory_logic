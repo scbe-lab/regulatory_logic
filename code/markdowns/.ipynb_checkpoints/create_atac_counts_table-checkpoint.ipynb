{
 "cells": [
  {
   "cell_type": "code",
   "execution_count": 1,
   "id": "037b76f7",
   "metadata": {},
   "outputs": [],
   "source": [
    "import pandas as pd\n",
    "import numpy as np\n",
    "import subprocess as sp\n",
    "import os"
   ]
  },
  {
   "cell_type": "markdown",
   "id": "988c18e1",
   "metadata": {},
   "source": [
    "The raw data contains BAM files for each cluster (not copied here), as well as a table of peaks.\n",
    "We can use these to obtain a table of reads under peaks using gimmemotifs' coverage_table command."
   ]
  },
  {
   "cell_type": "code",
   "execution_count": 2,
   "id": "120f1b60",
   "metadata": {},
   "outputs": [
    {
     "name": "stdout",
     "output_type": "stream",
     "text": [
      "usage: coverage_table [-h] -p FILE -d [FILE ...] [-w WINDOW] [-l] [-n METHOD]\n",
      "                      [-t TOP] [-T TOPMETHOD] [-D] [-R] [--nthreads INT]\n",
      "\n",
      "GimmeMotifs v0.17.1 - coverage_table\n",
      "\n",
      "optional arguments:\n",
      "  -h, --help            show this help message and exit\n",
      "  -p FILE, --peaks FILE\n",
      "                        BED file containing peaks\n",
      "  -d [FILE ...], --datafile [FILE ...]\n",
      "                        data files (BAM, BED or bigWig format)\n",
      "  -w WINDOW, --window WINDOW\n",
      "                        window size (default 200)\n",
      "  -l, --logtransform    Log transfrom\n",
      "  -n METHOD, --normalization METHOD\n",
      "                        Normalization: none, quantile or scale\n",
      "  -t TOP, --top TOP     Select regions.\n",
      "  -T TOPMETHOD, --topmethod TOPMETHOD\n",
      "                        Method to select regions (var, std, mean or random)\n",
      "  -D                    keep duplicate reads (removed by default)\n",
      "  -R                    keep reads with mapq 0 (removed by default)\n",
      "  --nthreads INT        Number of threads\n"
     ]
    }
   ],
   "source": [
    "%%bash\n",
    "source /mnt/sda/alberto/programs/miniconda3/bin/activate\n",
    "conda activate gimme_venv\n",
    "coverage_table -h"
   ]
  },
  {
   "cell_type": "markdown",
   "id": "913b0026",
   "metadata": {},
   "source": [
    "With this command we get the reads under peaks, with each peak normalized to 200bp (using the center of each read)."
   ]
  },
  {
   "cell_type": "code",
   "execution_count": 3,
   "id": "6311015d",
   "metadata": {},
   "outputs": [
    {
     "name": "stderr",
     "output_type": "stream",
     "text": [
      "2024-02-08 11:22:46,462 - INFO - Loading data\n",
      "100%|██████████| 11/11 [00:13<00:00,  1.19s/it]\n",
      "2024-02-08 11:22:59,596 - INFO - No normalization\n"
     ]
    }
   ],
   "source": [
    "%%bash\n",
    "source /mnt/sda/alberto/programs/miniconda3/bin/activate\n",
    "conda activate gimme_venv\n",
    "\n",
    "# prior to this, we must generate a merge of all bam files: samtools merge merged.bam *.bam\n",
    "coverage_table \\\n",
    "-p /mnt/sda/alberto/projects/smed_cisreg/outputs/scatac/NX73/outs/raw_peak_bc_matrix/peaks.bed \\\n",
    "-d \\\n",
    "/mnt/sda/alberto/projects/smed_cisreg/outputs/scatac/seurat_outputs/split_bam/neoblast.bam \\\n",
    "/mnt/sda/alberto/projects/smed_cisreg/outputs/scatac/seurat_outputs/split_bam/early_epidermal_progenitors.bam \\\n",
    "/mnt/sda/alberto/projects/smed_cisreg/outputs/scatac/seurat_outputs/split_bam/late_epidermal_progenitors.bam \\\n",
    "/mnt/sda/alberto/projects/smed_cisreg/outputs/scatac/seurat_outputs/split_bam/epidermis.bam \\\n",
    "/mnt/sda/alberto/projects/smed_cisreg/outputs/scatac/seurat_outputs/split_bam/phagocytes.bam \\\n",
    "/mnt/sda/alberto/projects/smed_cisreg/outputs/scatac/seurat_outputs/split_bam/basal_goblet.bam \\\n",
    "/mnt/sda/alberto/projects/smed_cisreg/outputs/scatac/seurat_outputs/split_bam/muscle.bam \\\n",
    "/mnt/sda/alberto/projects/smed_cisreg/outputs/scatac/seurat_outputs/split_bam/neurons.bam \\\n",
    "/mnt/sda/alberto/projects/smed_cisreg/outputs/scatac/seurat_outputs/split_bam/parenchyma.bam \\\n",
    "/mnt/sda/alberto/projects/smed_cisreg/outputs/scatac/seurat_outputs/split_bam/protonephridia.bam \\\n",
    "/mnt/sda/alberto/projects/smed_cisreg/outputs/scatac/seurat_outputs/split_bam/secretory.bam \\\n",
    "-w 200 \\\n",
    "-n none \\\n",
    "--nthreads 12 \\\n",
    "> /mnt/sda/alberto/projects/smed_cisreg/outputs/scatac/seurat_outputs/split_bam/atac_counts_broadtype.tsv"
   ]
  },
  {
   "cell_type": "markdown",
   "id": "31301599",
   "metadata": {},
   "source": [
    "# get peak summits & max read depths"
   ]
  },
  {
   "cell_type": "markdown",
   "id": "c02ee605",
   "metadata": {},
   "source": [
    "The peak file in the raw data has two issues:\n",
    "  1. the peaks have variable widths\n",
    "  2. some \"peaks\" have very few reads\n",
    "  \n",
    "Here we make a pileup of all BAM reads to find the number of reads, and the summit of reads under each peak. \n",
    "\n",
    "Next, we filter the peakset to peaks which contain at least four reads in total.\n",
    "\n",
    "Finally, we normalize the peak width too 200bp, centered on the summit."
   ]
  },
  {
   "cell_type": "code",
   "execution_count": 4,
   "id": "2ccdf546",
   "metadata": {},
   "outputs": [
    {
     "data": {
      "text/html": [
       "<div>\n",
       "<style scoped>\n",
       "    .dataframe tbody tr th:only-of-type {\n",
       "        vertical-align: middle;\n",
       "    }\n",
       "\n",
       "    .dataframe tbody tr th {\n",
       "        vertical-align: top;\n",
       "    }\n",
       "\n",
       "    .dataframe thead th {\n",
       "        text-align: right;\n",
       "    }\n",
       "</style>\n",
       "<table border=\"1\" class=\"dataframe\">\n",
       "  <thead>\n",
       "    <tr style=\"text-align: right;\">\n",
       "      <th></th>\n",
       "      <th>chrom</th>\n",
       "      <th>start</th>\n",
       "      <th>end</th>\n",
       "    </tr>\n",
       "  </thead>\n",
       "  <tbody>\n",
       "    <tr>\n",
       "      <th>0</th>\n",
       "      <td>chr1_h1</td>\n",
       "      <td>38165</td>\n",
       "      <td>39079</td>\n",
       "    </tr>\n",
       "    <tr>\n",
       "      <th>1</th>\n",
       "      <td>chr1_h1</td>\n",
       "      <td>39671</td>\n",
       "      <td>40541</td>\n",
       "    </tr>\n",
       "    <tr>\n",
       "      <th>2</th>\n",
       "      <td>chr1_h1</td>\n",
       "      <td>64000</td>\n",
       "      <td>64936</td>\n",
       "    </tr>\n",
       "    <tr>\n",
       "      <th>3</th>\n",
       "      <td>chr1_h1</td>\n",
       "      <td>65429</td>\n",
       "      <td>66256</td>\n",
       "    </tr>\n",
       "    <tr>\n",
       "      <th>4</th>\n",
       "      <td>chr1_h1</td>\n",
       "      <td>267974</td>\n",
       "      <td>268852</td>\n",
       "    </tr>\n",
       "    <tr>\n",
       "      <th>...</th>\n",
       "      <td>...</td>\n",
       "      <td>...</td>\n",
       "      <td>...</td>\n",
       "    </tr>\n",
       "    <tr>\n",
       "      <th>36512</th>\n",
       "      <td>h1tg000785l</td>\n",
       "      <td>8720</td>\n",
       "      <td>9583</td>\n",
       "    </tr>\n",
       "    <tr>\n",
       "      <th>36513</th>\n",
       "      <td>h1tg000695l</td>\n",
       "      <td>5216</td>\n",
       "      <td>6014</td>\n",
       "    </tr>\n",
       "    <tr>\n",
       "      <th>36514</th>\n",
       "      <td>h1tg000695l</td>\n",
       "      <td>15215</td>\n",
       "      <td>16132</td>\n",
       "    </tr>\n",
       "    <tr>\n",
       "      <th>36515</th>\n",
       "      <td>h1tg000866l</td>\n",
       "      <td>3191</td>\n",
       "      <td>4071</td>\n",
       "    </tr>\n",
       "    <tr>\n",
       "      <th>36516</th>\n",
       "      <td>h1tg000866l</td>\n",
       "      <td>10123</td>\n",
       "      <td>11040</td>\n",
       "    </tr>\n",
       "  </tbody>\n",
       "</table>\n",
       "<p>36517 rows × 3 columns</p>\n",
       "</div>"
      ],
      "text/plain": [
       "             chrom   start     end\n",
       "0          chr1_h1   38165   39079\n",
       "1          chr1_h1   39671   40541\n",
       "2          chr1_h1   64000   64936\n",
       "3          chr1_h1   65429   66256\n",
       "4          chr1_h1  267974  268852\n",
       "...            ...     ...     ...\n",
       "36512  h1tg000785l    8720    9583\n",
       "36513  h1tg000695l    5216    6014\n",
       "36514  h1tg000695l   15215   16132\n",
       "36515  h1tg000866l    3191    4071\n",
       "36516  h1tg000866l   10123   11040\n",
       "\n",
       "[36517 rows x 3 columns]"
      ]
     },
     "execution_count": 4,
     "metadata": {},
     "output_type": "execute_result"
    }
   ],
   "source": [
    "peakfile = \"/mnt/sda/alberto/projects/smed_cisreg/outputs/scatac/NX73/outs/raw_peak_bc_matrix/peaks.bed\"\n",
    "df = pd.read_table(peakfile, comment=\"#\", header=None)\n",
    "df.columns = [\"chrom\", \"start\", \"end\"]\n",
    "df"
   ]
  },
  {
   "cell_type": "code",
   "execution_count": 5,
   "id": "f9f4a601",
   "metadata": {},
   "outputs": [],
   "source": [
    "# no comments/headers\n",
    "df.to_csv(\"/mnt/sda/alberto/projects/smed_cisreg/outputs/ananse/prep/peaks.bed\", sep=\"\\t\", index=False, header=False)"
   ]
  },
  {
   "cell_type": "markdown",
   "id": "55f25f8f",
   "metadata": {},
   "source": [
    "Optional: instead of using peaks.bed directly, you can extend the peaks first using bedtools slop. With 1000bp, all peaks have reads but that might be unrealistic. "
   ]
  },
  {
   "cell_type": "code",
   "execution_count": 6,
   "id": "3b2d19fc",
   "metadata": {},
   "outputs": [],
   "source": [
    "%%bash\n",
    "\n",
    "bedtools slop \\\n",
    "-b 1000 \\\n",
    "-i ~/projects/smed_cisreg/outputs/ananse/prep/peaks.bed \\\n",
    "-g ~/genomes/Smed/Rink/schMedS3/sizes.genome \\\n",
    "> ~/projects/smed_cisreg/outputs/ananse/prep/peaks_extended.bed"
   ]
  },
  {
   "cell_type": "code",
   "execution_count": 8,
   "id": "d0033ec7",
   "metadata": {},
   "outputs": [
    {
     "name": "stderr",
     "output_type": "stream",
     "text": [
      "[mpileup] 1 samples in 1 input files\n"
     ]
    }
   ],
   "source": [
    "%%bash\n",
    "\n",
    "# -B: Bam already filtered\n",
    "# -A: Bam already filtered\n",
    "samtools mpileup \\\n",
    "-A -B \\\n",
    "-l ~/projects/smed_cisreg/outputs/ananse/prep/peaks_extended.bed \\\n",
    "-o ~/projects/smed_cisreg/outputs/ananse/prep/peak_extended_pileup.tsv \\\n",
    "~/projects/smed_cisreg/outputs/ananse/prep/bams/possorted_bam.bam"
   ]
  },
  {
   "cell_type": "code",
   "execution_count": 9,
   "id": "9dbd5976",
   "metadata": {},
   "outputs": [
    {
     "data": {
      "text/html": [
       "<div>\n",
       "<style scoped>\n",
       "    .dataframe tbody tr th:only-of-type {\n",
       "        vertical-align: middle;\n",
       "    }\n",
       "\n",
       "    .dataframe tbody tr th {\n",
       "        vertical-align: top;\n",
       "    }\n",
       "\n",
       "    .dataframe thead th {\n",
       "        text-align: right;\n",
       "    }\n",
       "</style>\n",
       "<table border=\"1\" class=\"dataframe\">\n",
       "  <thead>\n",
       "    <tr style=\"text-align: right;\">\n",
       "      <th></th>\n",
       "      <th>chrom</th>\n",
       "      <th>pos</th>\n",
       "      <th>count</th>\n",
       "    </tr>\n",
       "  </thead>\n",
       "  <tbody>\n",
       "    <tr>\n",
       "      <th>0</th>\n",
       "      <td>chr1_h1</td>\n",
       "      <td>38275</td>\n",
       "      <td>1</td>\n",
       "    </tr>\n",
       "    <tr>\n",
       "      <th>1</th>\n",
       "      <td>chr1_h1</td>\n",
       "      <td>38276</td>\n",
       "      <td>1</td>\n",
       "    </tr>\n",
       "    <tr>\n",
       "      <th>2</th>\n",
       "      <td>chr1_h1</td>\n",
       "      <td>38277</td>\n",
       "      <td>1</td>\n",
       "    </tr>\n",
       "    <tr>\n",
       "      <th>3</th>\n",
       "      <td>chr1_h1</td>\n",
       "      <td>38278</td>\n",
       "      <td>1</td>\n",
       "    </tr>\n",
       "    <tr>\n",
       "      <th>4</th>\n",
       "      <td>chr1_h1</td>\n",
       "      <td>38279</td>\n",
       "      <td>1</td>\n",
       "    </tr>\n",
       "    <tr>\n",
       "      <th>...</th>\n",
       "      <td>...</td>\n",
       "      <td>...</td>\n",
       "      <td>...</td>\n",
       "    </tr>\n",
       "    <tr>\n",
       "      <th>65231969</th>\n",
       "      <td>h1tg000866l</td>\n",
       "      <td>12036</td>\n",
       "      <td>10</td>\n",
       "    </tr>\n",
       "    <tr>\n",
       "      <th>65231970</th>\n",
       "      <td>h1tg000866l</td>\n",
       "      <td>12037</td>\n",
       "      <td>10</td>\n",
       "    </tr>\n",
       "    <tr>\n",
       "      <th>65231971</th>\n",
       "      <td>h1tg000866l</td>\n",
       "      <td>12038</td>\n",
       "      <td>11</td>\n",
       "    </tr>\n",
       "    <tr>\n",
       "      <th>65231972</th>\n",
       "      <td>h1tg000866l</td>\n",
       "      <td>12039</td>\n",
       "      <td>11</td>\n",
       "    </tr>\n",
       "    <tr>\n",
       "      <th>65231973</th>\n",
       "      <td>h1tg000866l</td>\n",
       "      <td>12040</td>\n",
       "      <td>11</td>\n",
       "    </tr>\n",
       "  </tbody>\n",
       "</table>\n",
       "<p>65231974 rows × 3 columns</p>\n",
       "</div>"
      ],
      "text/plain": [
       "                chrom    pos  count\n",
       "0             chr1_h1  38275      1\n",
       "1             chr1_h1  38276      1\n",
       "2             chr1_h1  38277      1\n",
       "3             chr1_h1  38278      1\n",
       "4             chr1_h1  38279      1\n",
       "...               ...    ...    ...\n",
       "65231969  h1tg000866l  12036     10\n",
       "65231970  h1tg000866l  12037     10\n",
       "65231971  h1tg000866l  12038     11\n",
       "65231972  h1tg000866l  12039     11\n",
       "65231973  h1tg000866l  12040     11\n",
       "\n",
       "[65231974 rows x 3 columns]"
      ]
     },
     "execution_count": 9,
     "metadata": {},
     "output_type": "execute_result"
    }
   ],
   "source": [
    "pu = pd.read_table(\n",
    "    \"~/projects/smed_cisreg/outputs/ananse/prep/peak_extended_pileup.tsv\", \n",
    "    header=None,\n",
    "    usecols=[0,1,3],\n",
    "    names=[\"chrom\", \"pos\", \"count\"],\n",
    ")\n",
    "\n",
    "pu"
   ]
  },
  {
   "cell_type": "code",
   "execution_count": 10,
   "id": "789e4629",
   "metadata": {},
   "outputs": [
    {
     "name": "stdout",
     "output_type": "stream",
     "text": [
      "chrom: chr1_h1\n",
      "chrom: chr2_h1\n",
      "chrom: chr3_h1\n",
      "chrom: chr4_h1\n",
      "chrom: scaffold_12_h1\n",
      "chrom: h1tg000124l\n",
      "chrom: h1tg000207l\n",
      "chrom: h1tg000152l\n",
      "chrom: h1tg000155l\n",
      "chrom: scaffold_16_h1\n",
      "chrom: h1tg000329l\n",
      "chrom: h1tg000230l\n",
      "chrom: h1tg000212l\n",
      "chrom: h1tg000517l\n",
      "chrom: h1tg000471l\n",
      "chrom: h1tg000489l\n",
      "chrom: h1tg000353l\n",
      "chrom: h1tg000121l\n",
      "chrom: h1tg000463l\n",
      "chrom: h1tg000519l\n",
      "chrom: scaffold_67_h1\n",
      "chrom: h1tg000794l\n",
      "chrom: h1tg000613l\n",
      "chrom: h1tg000664l\n",
      "chrom: h1tg000710l\n",
      "chrom: h1tg000746l\n",
      "chrom: h1tg000865l\n",
      "chrom: h1tg000738l\n",
      "chrom: h1tg000544l\n",
      "chrom: h1tg000835l\n",
      "chrom: h1tg000565l\n",
      "chrom: h1tg000785l\n",
      "chrom: h1tg000695l\n",
      "chrom: h1tg000866l\n"
     ]
    }
   ],
   "source": [
    "summits = []\n",
    "depths = []\n",
    "last_chrom = \"\"\n",
    "for idx, (chrom, start, end) in df.iterrows():\n",
    "    if last_chrom != chrom:\n",
    "        print(\"chrom:\", chrom)  # print progress\n",
    "        chrom_pu = pu[pu[\"chrom\"] == chrom]\n",
    "        last_chrom = chrom\n",
    "    \n",
    "    sub_pu = chrom_pu[chrom_pu[\"pos\"].between(start, end)]\n",
    "    maxima = sub_pu[\"count\"] == sub_pu[\"count\"].max()\n",
    "    if sum(maxima) == 0:\n",
    "        summit = None\n",
    "    elif sum(maxima) == 1:\n",
    "        summit = int(sub_pu[maxima][\"pos\"])\n",
    "    else:\n",
    "        idx = sub_pu[maxima].index\n",
    "        middle_summit = idx[len(idx) // 2]\n",
    "        summit = int(sub_pu.loc[middle_summit][\"pos\"])\n",
    "    depth = sub_pu[\"count\"].max()\n",
    "    \n",
    "    depths.append(depth)\n",
    "    summits.append(summit)\n"
   ]
  },
  {
   "cell_type": "code",
   "execution_count": 11,
   "id": "0b2669a8",
   "metadata": {},
   "outputs": [
    {
     "data": {
      "text/html": [
       "<div>\n",
       "<style scoped>\n",
       "    .dataframe tbody tr th:only-of-type {\n",
       "        vertical-align: middle;\n",
       "    }\n",
       "\n",
       "    .dataframe tbody tr th {\n",
       "        vertical-align: top;\n",
       "    }\n",
       "\n",
       "    .dataframe thead th {\n",
       "        text-align: right;\n",
       "    }\n",
       "</style>\n",
       "<table border=\"1\" class=\"dataframe\">\n",
       "  <thead>\n",
       "    <tr style=\"text-align: right;\">\n",
       "      <th></th>\n",
       "      <th>chrom</th>\n",
       "      <th>start</th>\n",
       "      <th>end</th>\n",
       "      <th>summit</th>\n",
       "      <th>depth</th>\n",
       "    </tr>\n",
       "  </thead>\n",
       "  <tbody>\n",
       "    <tr>\n",
       "      <th>0</th>\n",
       "      <td>chr1_h1</td>\n",
       "      <td>38165</td>\n",
       "      <td>39079</td>\n",
       "      <td>38424</td>\n",
       "      <td>26</td>\n",
       "    </tr>\n",
       "    <tr>\n",
       "      <th>1</th>\n",
       "      <td>chr1_h1</td>\n",
       "      <td>39671</td>\n",
       "      <td>40541</td>\n",
       "      <td>40010</td>\n",
       "      <td>55</td>\n",
       "    </tr>\n",
       "    <tr>\n",
       "      <th>2</th>\n",
       "      <td>chr1_h1</td>\n",
       "      <td>64000</td>\n",
       "      <td>64936</td>\n",
       "      <td>64527</td>\n",
       "      <td>48</td>\n",
       "    </tr>\n",
       "    <tr>\n",
       "      <th>3</th>\n",
       "      <td>chr1_h1</td>\n",
       "      <td>65429</td>\n",
       "      <td>66256</td>\n",
       "      <td>65849</td>\n",
       "      <td>42</td>\n",
       "    </tr>\n",
       "    <tr>\n",
       "      <th>4</th>\n",
       "      <td>chr1_h1</td>\n",
       "      <td>267974</td>\n",
       "      <td>268852</td>\n",
       "      <td>268523</td>\n",
       "      <td>24</td>\n",
       "    </tr>\n",
       "  </tbody>\n",
       "</table>\n",
       "</div>"
      ],
      "text/plain": [
       "     chrom   start     end  summit  depth\n",
       "0  chr1_h1   38165   39079   38424     26\n",
       "1  chr1_h1   39671   40541   40010     55\n",
       "2  chr1_h1   64000   64936   64527     48\n",
       "3  chr1_h1   65429   66256   65849     42\n",
       "4  chr1_h1  267974  268852  268523     24"
      ]
     },
     "execution_count": 11,
     "metadata": {},
     "output_type": "execute_result"
    }
   ],
   "source": [
    "df2 = df.copy()\n",
    "df2[\"summit\"] = summits\n",
    "df2[\"depth\"] = depths\n",
    "df2 = df2.dropna()\n",
    "df2[\"summit\"] = df2[\"summit\"].astype(np.int64)\n",
    "df2[\"depth\"] = df2[\"depth\"].astype(np.int64)\n",
    "df2.head()"
   ]
  },
  {
   "cell_type": "code",
   "execution_count": 12,
   "id": "bdd309d5",
   "metadata": {},
   "outputs": [],
   "source": [
    "df2.to_csv(\"~/projects/smed_cisreg/outputs/ananse/prep/peak_extended_summits.tsv\", index=False, sep=\"\\t\")"
   ]
  },
  {
   "cell_type": "markdown",
   "id": "54efd64d",
   "metadata": {},
   "source": [
    "# visualize peaks per read depth"
   ]
  },
  {
   "cell_type": "code",
   "execution_count": 13,
   "id": "4b6cc781",
   "metadata": {},
   "outputs": [
    {
     "name": "stdout",
     "output_type": "stream",
     "text": [
      "regions with depth 0: 0\n",
      "regions with depth 1: 0\n",
      "regions with depth 2: 0\n",
      "regions with depth 3: 4\n",
      "regions with depth 4: 82\n",
      "regions with depth 5: 327\n",
      "regions with depth 6: 899\n",
      "regions with depth 7: 1624\n",
      "regions with depth 8: 2332\n",
      "regions with depth 9: 2777\n",
      "regions with depth 10: 2960\n"
     ]
    }
   ],
   "source": [
    "df2 = pd.read_csv(\"~/projects/smed_cisreg/outputs/ananse/prep/peak_extended_summits.tsv\", sep=\"\\t\")\n",
    "\n",
    "depth = list(range(0, df2[\"depth\"].max()))\n",
    "n_regions = []\n",
    "for n in depth:\n",
    "    nr = sum(df2['depth'] == n)\n",
    "    n_regions.append(nr)\n",
    "    if n <= 10:\n",
    "        print(\n",
    "            f\"regions with depth {n}: {nr}\"\n",
    "        )\n"
   ]
  },
  {
   "cell_type": "code",
   "execution_count": 14,
   "id": "5ebe17bc",
   "metadata": {},
   "outputs": [],
   "source": [
    "import matplotlib\n",
    "%matplotlib inline"
   ]
  },
  {
   "cell_type": "code",
   "execution_count": 15,
   "id": "275bb744",
   "metadata": {},
   "outputs": [
    {
     "data": {
      "image/png": "[encoded data removed]",
      "text/plain": [
       "<Figure size 432x288 with 1 Axes>"
      ]
     },
     "metadata": {
      "needs_background": "light"
     },
     "output_type": "display_data"
    }
   ],
   "source": [
    "_ = pd.DataFrame({\"reads\": depth, \"number of reads under peaks\": n_regions}).plot(x=\"reads\", xlim=(0, 50))#, ylim=(0, 20_000))"
   ]
  },
  {
   "cell_type": "code",
   "execution_count": 16,
   "id": "3ab30867",
   "metadata": {},
   "outputs": [],
   "source": [
    "min_depth = list(range(0, df2[\"depth\"].max()))\n",
    "n_regions = []\n",
    "for n in min_depth:\n",
    "    nr = sum(df2['depth'] >= n)\n",
    "    n_regions.append(nr)"
   ]
  },
  {
   "cell_type": "code",
   "execution_count": 17,
   "id": "3b1a02df",
   "metadata": {},
   "outputs": [
    {
     "data": {
      "image/png": "[encoded data removed]",
      "text/plain": [
       "<Figure size 432x288 with 1 Axes>"
      ]
     },
     "metadata": {
      "needs_background": "light"
     },
     "output_type": "display_data"
    }
   ],
   "source": [
    "_ = pd.DataFrame({\"min_depth\": min_depth, \"remaining_regions\": n_regions}).plot(x=\"min_depth\", xlim=(0, 50))#, ylim=(0, 20_000))"
   ]
  },
  {
   "cell_type": "markdown",
   "id": "2c7942a7",
   "metadata": {},
   "source": [
    "# filter peaks (by min read depth)"
   ]
  },
  {
   "cell_type": "code",
   "execution_count": 22,
   "id": "727d321c",
   "metadata": {},
   "outputs": [],
   "source": [
    "min_reads = 5 # should be 4??"
   ]
  },
  {
   "cell_type": "code",
   "execution_count": 23,
   "id": "1c8bc8ca",
   "metadata": {},
   "outputs": [
    {
     "data": {
      "text/html": [
       "<div>\n",
       "<style scoped>\n",
       "    .dataframe tbody tr th:only-of-type {\n",
       "        vertical-align: middle;\n",
       "    }\n",
       "\n",
       "    .dataframe tbody tr th {\n",
       "        vertical-align: top;\n",
       "    }\n",
       "\n",
       "    .dataframe thead th {\n",
       "        text-align: right;\n",
       "    }\n",
       "</style>\n",
       "<table border=\"1\" class=\"dataframe\">\n",
       "  <thead>\n",
       "    <tr style=\"text-align: right;\">\n",
       "      <th></th>\n",
       "      <th>chrom</th>\n",
       "      <th>start</th>\n",
       "      <th>end</th>\n",
       "    </tr>\n",
       "  </thead>\n",
       "  <tbody>\n",
       "    <tr>\n",
       "      <th>0</th>\n",
       "      <td>chr1_h1</td>\n",
       "      <td>38324</td>\n",
       "      <td>38524</td>\n",
       "    </tr>\n",
       "    <tr>\n",
       "      <th>1</th>\n",
       "      <td>chr1_h1</td>\n",
       "      <td>39910</td>\n",
       "      <td>40110</td>\n",
       "    </tr>\n",
       "    <tr>\n",
       "      <th>2</th>\n",
       "      <td>chr1_h1</td>\n",
       "      <td>64427</td>\n",
       "      <td>64627</td>\n",
       "    </tr>\n",
       "    <tr>\n",
       "      <th>3</th>\n",
       "      <td>chr1_h1</td>\n",
       "      <td>65749</td>\n",
       "      <td>65949</td>\n",
       "    </tr>\n",
       "    <tr>\n",
       "      <th>4</th>\n",
       "      <td>chr1_h1</td>\n",
       "      <td>268423</td>\n",
       "      <td>268623</td>\n",
       "    </tr>\n",
       "    <tr>\n",
       "      <th>...</th>\n",
       "      <td>...</td>\n",
       "      <td>...</td>\n",
       "      <td>...</td>\n",
       "    </tr>\n",
       "    <tr>\n",
       "      <th>36512</th>\n",
       "      <td>h1tg000785l</td>\n",
       "      <td>9237</td>\n",
       "      <td>9437</td>\n",
       "    </tr>\n",
       "    <tr>\n",
       "      <th>36513</th>\n",
       "      <td>h1tg000695l</td>\n",
       "      <td>5532</td>\n",
       "      <td>5732</td>\n",
       "    </tr>\n",
       "    <tr>\n",
       "      <th>36514</th>\n",
       "      <td>h1tg000695l</td>\n",
       "      <td>15457</td>\n",
       "      <td>15657</td>\n",
       "    </tr>\n",
       "    <tr>\n",
       "      <th>36515</th>\n",
       "      <td>h1tg000866l</td>\n",
       "      <td>3468</td>\n",
       "      <td>3668</td>\n",
       "    </tr>\n",
       "    <tr>\n",
       "      <th>36516</th>\n",
       "      <td>h1tg000866l</td>\n",
       "      <td>10475</td>\n",
       "      <td>10675</td>\n",
       "    </tr>\n",
       "  </tbody>\n",
       "</table>\n",
       "<p>36431 rows × 3 columns</p>\n",
       "</div>"
      ],
      "text/plain": [
       "             chrom   start     end\n",
       "0          chr1_h1   38324   38524\n",
       "1          chr1_h1   39910   40110\n",
       "2          chr1_h1   64427   64627\n",
       "3          chr1_h1   65749   65949\n",
       "4          chr1_h1  268423  268623\n",
       "...            ...     ...     ...\n",
       "36512  h1tg000785l    9237    9437\n",
       "36513  h1tg000695l    5532    5732\n",
       "36514  h1tg000695l   15457   15657\n",
       "36515  h1tg000866l    3468    3668\n",
       "36516  h1tg000866l   10475   10675\n",
       "\n",
       "[36431 rows x 3 columns]"
      ]
     },
     "execution_count": 23,
     "metadata": {},
     "output_type": "execute_result"
    }
   ],
   "source": [
    "df3 = df2.copy()\n",
    "df3 = df3[df3['depth'] >= min_reads]\n",
    "# standardize the peak widths\n",
    "df3[\"start\"] = df3[\"summit\"]-100\n",
    "df3[\"end\"] = df3[\"summit\"]+100\n",
    "df3 = df3[[\"chrom\", \"start\", \"end\"]]\n",
    "df3"
   ]
  },
  {
   "cell_type": "code",
   "execution_count": 24,
   "id": "1aa966a0",
   "metadata": {},
   "outputs": [],
   "source": [
    "df3.to_csv(f\"~/projects/smed_cisreg/outputs/ananse/prep/peaks_normalized_min{min_reads}.bed\", index=False, header=False, sep=\"\\t\")"
   ]
  },
  {
   "cell_type": "markdown",
   "id": "c64c7f6c",
   "metadata": {},
   "source": [
    "# make ATAC counts table"
   ]
  },
  {
   "cell_type": "code",
   "execution_count": 25,
   "id": "45558af1",
   "metadata": {},
   "outputs": [
    {
     "name": "stderr",
     "output_type": "stream",
     "text": [
      "2024-02-13 15:20:46,942 - INFO - Loading data\n",
      "100%|██████████| 11/11 [00:12<00:00,  1.11s/it]\n",
      "2024-02-13 15:20:59,299 - INFO - No normalization\n"
     ]
    }
   ],
   "source": [
    "%%bash\n",
    "source /mnt/sda/alberto/programs/miniconda3/bin/activate\n",
    "conda activate gimme_venv\n",
    "\n",
    "coverage_table \\\n",
    "-p ~/projects/smed_cisreg/outputs/ananse/prep/peaks_normalized_min10.bed \\\n",
    "-d \\\n",
    "/mnt/sda/alberto/projects/smed_cisreg/outputs/scatac/seurat_outputs/split_bam/neoblast.bam \\\n",
    "/mnt/sda/alberto/projects/smed_cisreg/outputs/scatac/seurat_outputs/split_bam/early_epidermal_progenitors.bam \\\n",
    "/mnt/sda/alberto/projects/smed_cisreg/outputs/scatac/seurat_outputs/split_bam/late_epidermal_progenitors.bam \\\n",
    "/mnt/sda/alberto/projects/smed_cisreg/outputs/scatac/seurat_outputs/split_bam/epidermis.bam \\\n",
    "/mnt/sda/alberto/projects/smed_cisreg/outputs/scatac/seurat_outputs/split_bam/phagocytes.bam \\\n",
    "/mnt/sda/alberto/projects/smed_cisreg/outputs/scatac/seurat_outputs/split_bam/basal_goblet.bam \\\n",
    "/mnt/sda/alberto/projects/smed_cisreg/outputs/scatac/seurat_outputs/split_bam/muscle.bam \\\n",
    "/mnt/sda/alberto/projects/smed_cisreg/outputs/scatac/seurat_outputs/split_bam/neurons.bam \\\n",
    "/mnt/sda/alberto/projects/smed_cisreg/outputs/scatac/seurat_outputs/split_bam/parenchyma.bam \\\n",
    "/mnt/sda/alberto/projects/smed_cisreg/outputs/scatac/seurat_outputs/split_bam/protonephridia.bam \\\n",
    "/mnt/sda/alberto/projects/smed_cisreg/outputs/scatac/seurat_outputs/split_bam/secretory.bam \\\n",
    "-w 200 \\\n",
    "-n none \\\n",
    "--nthreads 12 \\\n",
    "> ~/projects/smed_cisreg/outputs/ananse/counts/atac/atac_counts_min5.tsv"
   ]
  },
  {
   "cell_type": "markdown",
   "id": "0c98ee21",
   "metadata": {},
   "source": [
    "The End!"
   ]
  }
 ],
 "metadata": {
  "kernelspec": {
   "display_name": "Python 3 (ipykernel)",
   "language": "python",
   "name": "python3"
  },
  "language_info": {
   "codemirror_mode": {
    "name": "ipython",
    "version": 3
   },
   "file_extension": ".py",
   "mimetype": "text/x-python",
   "name": "python",
   "nbconvert_exporter": "python",
   "pygments_lexer": "ipython3",
   "version": "3.8.10"
  }
 },
 "nbformat": 4,
 "nbformat_minor": 5
}
